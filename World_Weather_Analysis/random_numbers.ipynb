{
 "cells": [
  {
   "cell_type": "code",
   "execution_count": 1,
   "id": "8d939d64",
   "metadata": {},
   "outputs": [],
   "source": [
    "# Import the random module.\n",
    "import random"
   ]
  },
  {
   "cell_type": "code",
   "execution_count": 3,
   "id": "322745ce",
   "metadata": {},
   "outputs": [
    {
     "data": {
      "text/plain": [
       "82"
      ]
     },
     "execution_count": 3,
     "metadata": {},
     "output_type": "execute_result"
    }
   ],
   "source": [
    "random.randint(-90, 90)"
   ]
  },
  {
   "cell_type": "code",
   "execution_count": 4,
   "id": "af9caccd",
   "metadata": {},
   "outputs": [
    {
     "data": {
      "text/plain": [
       "0.45896080517063786"
      ]
     },
     "execution_count": 4,
     "metadata": {},
     "output_type": "execute_result"
    }
   ],
   "source": [
    "random.random()"
   ]
  },
  {
   "cell_type": "code",
   "execution_count": 7,
   "id": "eb025660",
   "metadata": {},
   "outputs": [
    {
     "data": {
      "text/plain": [
       "-57.11585510131717"
      ]
     },
     "execution_count": 7,
     "metadata": {},
     "output_type": "execute_result"
    }
   ],
   "source": [
    "random_number = random.randint(-90,89) + random.random()\n",
    "random_number"
   ]
  },
  {
   "cell_type": "code",
   "execution_count": 10,
   "id": "15635552",
   "metadata": {},
   "outputs": [
    {
     "data": {
      "text/plain": [
       "[-9.382528297348616,\n",
       " -15.560604661763279,\n",
       " -45.97725318337125,\n",
       " 48.90993901290425,\n",
       " -51.96513200369864,\n",
       " 66.61343430910134,\n",
       " -74.20745607635867,\n",
       " 43.35901767634208,\n",
       " -48.500359386622584,\n",
       " -31.547257365211554]"
      ]
     },
     "execution_count": 10,
     "metadata": {},
     "output_type": "execute_result"
    }
   ],
   "source": [
    "x = 1\n",
    "latitudes = []\n",
    "while x < 11:\n",
    "    random_lat = random.randint(-90, 89) + random.random()\n",
    "    latitudes.append(random_lat)\n",
    "    x += 1\n",
    "    \n",
    "latitudes"
   ]
  },
  {
   "cell_type": "code",
   "execution_count": 11,
   "id": "6219a9f8",
   "metadata": {},
   "outputs": [
    {
     "data": {
      "text/plain": [
       "-36"
      ]
     },
     "execution_count": 11,
     "metadata": {},
     "output_type": "execute_result"
    }
   ],
   "source": [
    "random.randrange(-90,90,step=1)"
   ]
  },
  {
   "cell_type": "code",
   "execution_count": 12,
   "id": "ee46dda1",
   "metadata": {},
   "outputs": [
    {
     "data": {
      "text/plain": [
       "66"
      ]
     },
     "execution_count": 12,
     "metadata": {},
     "output_type": "execute_result"
    }
   ],
   "source": [
    "random.randrange(-90,90,step=3)"
   ]
  },
  {
   "cell_type": "code",
   "execution_count": 13,
   "id": "1af38d26",
   "metadata": {},
   "outputs": [
    {
     "data": {
      "text/plain": [
       "60.18897869136646"
      ]
     },
     "execution_count": 13,
     "metadata": {},
     "output_type": "execute_result"
    }
   ],
   "source": [
    "random.uniform(-90,90)"
   ]
  },
  {
   "cell_type": "code",
   "execution_count": 14,
   "id": "bcd61cee",
   "metadata": {},
   "outputs": [],
   "source": [
    "# Import the NumPy module.\n",
    "import numpy as np"
   ]
  },
  {
   "cell_type": "code",
   "execution_count": 15,
   "id": "8ae98d37",
   "metadata": {},
   "outputs": [
    {
     "data": {
      "text/plain": [
       "16.750856605941223"
      ]
     },
     "execution_count": 15,
     "metadata": {},
     "output_type": "execute_result"
    }
   ],
   "source": [
    "np.random.uniform(-90.000, 90.000)"
   ]
  },
  {
   "cell_type": "code",
   "execution_count": 16,
   "id": "472ad445",
   "metadata": {},
   "outputs": [
    {
     "data": {
      "text/plain": [
       "array([ 89.73627496,  19.48864559, -72.46206268,  85.06261142,\n",
       "        48.72669401, -66.65860767,  -2.85031449,  -7.49867858,\n",
       "        29.9418894 ,  34.4129657 ,  74.84039808,  32.78975504,\n",
       "       -86.49227959, -19.00563635, -36.96084086, -50.22339756,\n",
       "       -65.71011631, -85.32778182, -42.45985614, -38.87392809,\n",
       "       -27.81645789,  68.14583197,   9.28914977, -16.48701609,\n",
       "        49.62985635, -35.53201769,  79.44641097, -40.60292231,\n",
       "        -8.72082392, -66.52165368,  28.31749209,  79.40220306,\n",
       "       -68.06871759,  42.89217815,  61.65004495,  40.26711294,\n",
       "        68.07095488,  35.73775127,  -7.98994045,  -6.60329154,\n",
       "       -59.57426546,  50.62038762, -83.34508485,  -1.29741494,\n",
       "        35.99658581, -63.41527004,  37.25355166, -76.59796173,\n",
       "        40.57297659,  -5.86922643])"
      ]
     },
     "execution_count": 16,
     "metadata": {},
     "output_type": "execute_result"
    }
   ],
   "source": [
    "np.random.uniform(-90.000, 90.000, size=50)"
   ]
  },
  {
   "cell_type": "code",
   "execution_count": 17,
   "id": "a9380fbb",
   "metadata": {},
   "outputs": [],
   "source": [
    "# Import timeit.\n",
    "import timeit"
   ]
  },
  {
   "cell_type": "code",
   "execution_count": 18,
   "id": "5857c6ce",
   "metadata": {},
   "outputs": [
    {
     "name": "stdout",
     "output_type": "stream",
     "text": [
      "11.2 µs ± 205 ns per loop (mean ± std. dev. of 7 runs, 100000 loops each)\n"
     ]
    }
   ],
   "source": [
    "%timeit np.random.uniform(-90.000, 90.000, size=1500)"
   ]
  },
  {
   "cell_type": "code",
   "execution_count": 19,
   "id": "e773b4d7",
   "metadata": {},
   "outputs": [
    {
     "name": "stdout",
     "output_type": "stream",
     "text": [
      "1.1 ms ± 10 µs per loop (mean ± std. dev. of 7 runs, 1000 loops each)\n"
     ]
    }
   ],
   "source": [
    "def latitudes(size):\n",
    "    latitudes = []\n",
    "    x = 0\n",
    "    while x < (size):\n",
    "        random_lat = random.randint(-90, 90) + random.random()\n",
    "        latitudes.append(random_lat)\n",
    "        x += 1\n",
    "    return latitudes\n",
    "# Call the function with 1500.\n",
    "%timeit latitudes(1500)"
   ]
  },
  {
   "cell_type": "code",
   "execution_count": null,
   "id": "c1246140",
   "metadata": {},
   "outputs": [],
   "source": []
  }
 ],
 "metadata": {
  "kernelspec": {
   "display_name": "PythonData",
   "language": "python",
   "name": "pythondata"
  },
  "language_info": {
   "codemirror_mode": {
    "name": "ipython",
    "version": 3
   },
   "file_extension": ".py",
   "mimetype": "text/x-python",
   "name": "python",
   "nbconvert_exporter": "python",
   "pygments_lexer": "ipython3",
   "version": "3.9.4"
  }
 },
 "nbformat": 4,
 "nbformat_minor": 5
}
